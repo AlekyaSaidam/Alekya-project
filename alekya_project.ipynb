{
 "cells": [
  {
   "cell_type": "code",
   "execution_count": 3,
   "id": "13c1d5f7",
   "metadata": {},
   "outputs": [
    {
     "name": "stdout",
     "output_type": "stream",
     "text": [
      "<class 'pandas.core.frame.DataFrame'>\n",
      "RangeIndex: 2392 entries, 0 to 2391\n",
      "Data columns (total 29 columns):\n",
      " #   Column                  Non-Null Count  Dtype  \n",
      "---  ------                  --------------  -----  \n",
      " 0   PatientID               2392 non-null   int64  \n",
      " 1   Age                     2392 non-null   int64  \n",
      " 2   Gender                  2392 non-null   int64  \n",
      " 3   Ethnicity               2392 non-null   int64  \n",
      " 4   EducationLevel          2392 non-null   int64  \n",
      " 5   BMI                     2392 non-null   float64\n",
      " 6   Smoking                 2392 non-null   int64  \n",
      " 7   PhysicalActivity        2392 non-null   float64\n",
      " 8   DietQuality             2392 non-null   float64\n",
      " 9   SleepQuality            2392 non-null   float64\n",
      " 10  PollutionExposure       2392 non-null   float64\n",
      " 11  PollenExposure          2392 non-null   float64\n",
      " 12  DustExposure            2392 non-null   float64\n",
      " 13  PetAllergy              2392 non-null   int64  \n",
      " 14  FamilyHistoryAsthma     2392 non-null   int64  \n",
      " 15  HistoryOfAllergies      2392 non-null   int64  \n",
      " 16  Eczema                  2392 non-null   int64  \n",
      " 17  HayFever                2392 non-null   int64  \n",
      " 18  GastroesophagealReflux  2392 non-null   int64  \n",
      " 19  LungFunctionFEV1        2392 non-null   float64\n",
      " 20  LungFunctionFVC         2392 non-null   float64\n",
      " 21  Wheezing                2392 non-null   int64  \n",
      " 22  ShortnessOfBreath       2392 non-null   int64  \n",
      " 23  ChestTightness          2392 non-null   int64  \n",
      " 24  Coughing                2392 non-null   int64  \n",
      " 25  NighttimeSymptoms       2392 non-null   int64  \n",
      " 26  ExerciseInduced         2392 non-null   int64  \n",
      " 27  Diagnosis               2392 non-null   int64  \n",
      " 28  DoctorInCharge          2392 non-null   object \n",
      "dtypes: float64(9), int64(19), object(1)\n",
      "memory usage: 542.1+ KB\n",
      "None\n",
      "   PatientID  Age  Gender  Ethnicity  EducationLevel        BMI  Smoking  \\\n",
      "0       5034   63       0          1               0  15.848744        0   \n",
      "1       5035   26       1          2               2  22.757042        0   \n",
      "2       5036   57       0          2               1  18.395396        0   \n",
      "3       5037   40       1          2               1  38.515278        0   \n",
      "4       5038   61       0          0               3  19.283802        0   \n",
      "\n",
      "   PhysicalActivity  DietQuality  SleepQuality  ...  LungFunctionFEV1  \\\n",
      "0          0.894448     5.488696      8.701003  ...          1.369051   \n",
      "1          5.897329     6.341014      5.153966  ...          2.197767   \n",
      "2          6.739367     9.196237      6.840647  ...          1.698011   \n",
      "3          1.404503     5.826532      4.253036  ...          3.032037   \n",
      "4          4.604493     3.127048      9.625799  ...          3.470589   \n",
      "\n",
      "   LungFunctionFVC  Wheezing  ShortnessOfBreath  ChestTightness  Coughing  \\\n",
      "0         4.941206         0                  0               1         0   \n",
      "1         1.702393         1                  0               0         1   \n",
      "2         5.022553         1                  1               1         0   \n",
      "3         2.300159         1                  0               1         1   \n",
      "4         3.067944         1                  1               1         0   \n",
      "\n",
      "   NighttimeSymptoms  ExerciseInduced  Diagnosis  DoctorInCharge  \n",
      "0                  0                1          0       Dr_Confid  \n",
      "1                  1                1          0       Dr_Confid  \n",
      "2                  1                1          0       Dr_Confid  \n",
      "3                  1                0          0       Dr_Confid  \n",
      "4                  0                1          0       Dr_Confid  \n",
      "\n",
      "[5 rows x 29 columns]\n"
     ]
    }
   ],
   "source": [
    "\n",
    "\n",
    "import pandas as pd\n",
    "from sklearn.preprocessing import LabelEncoder, StandardScaler\n",
    "\n",
    "\n",
    "df = pd.read_csv('asthma_disease_data.csv')\n",
    "\n",
    "# Display basic information\n",
    "print(df.info())\n",
    "print(df.head())\n"
   ]
  },
  {
   "cell_type": "code",
   "execution_count": 6,
   "id": "8917c0de",
   "metadata": {},
   "outputs": [
    {
     "name": "stdout",
     "output_type": "stream",
     "text": [
      "Series([], dtype: int64)\n"
     ]
    }
   ],
   "source": [
    "# Check for missing values\n",
    "missing_values = df.isnull().sum()\n",
    "\n",
    "# Display only columns with missing values\n",
    "print(missing_values[missing_values > 0])\n"
   ]
  },
  {
   "cell_type": "code",
   "execution_count": 7,
   "id": "68aad717",
   "metadata": {},
   "outputs": [
    {
     "name": "stdout",
     "output_type": "stream",
     "text": [
      "Duplicate Rows: 0\n"
     ]
    }
   ],
   "source": [
    "# Check for duplicate rows\n",
    "duplicate_rows = df.duplicated().sum()\n",
    "print(f\"Duplicate Rows: {duplicate_rows}\")\n",
    "\n",
    "# Remove duplicates if any\n",
    "df = df.drop_duplicates()\n"
   ]
  },
  {
   "cell_type": "code",
   "execution_count": 8,
   "id": "fcd613ef",
   "metadata": {},
   "outputs": [],
   "source": [
    "from sklearn.preprocessing import LabelEncoder\n",
    "\n",
    "# Encode 'DoctorInCharge'\n",
    "label_encoder = LabelEncoder()\n",
    "df['DoctorInCharge'] = label_encoder.fit_transform(df['DoctorInCharge'])\n"
   ]
  },
  {
   "cell_type": "code",
   "execution_count": 9,
   "id": "1c03f632",
   "metadata": {},
   "outputs": [],
   "source": [
    "from sklearn.preprocessing import StandardScaler\n",
    "\n",
    "# Define numerical features to scale\n",
    "numerical_features = ['BMI', 'PhysicalActivity', 'DietQuality', 'SleepQuality',\n",
    "                      'PollutionExposure', 'PollenExposure', 'DustExposure',\n",
    "                      'LungFunctionFEV1', 'LungFunctionFVC']\n",
    "\n",
    "# Apply Standard Scaling\n",
    "scaler = StandardScaler()\n",
    "df[numerical_features] = scaler.fit_transform(df[numerical_features])\n"
   ]
  },
  {
   "cell_type": "code",
   "execution_count": 10,
   "id": "e6e219b0",
   "metadata": {},
   "outputs": [],
   "source": [
    "import numpy as np\n",
    "\n",
    "# Define function to remove outliers using IQR\n",
    "def remove_outliers(data, column):\n",
    "    Q1 = data[column].quantile(0.25)\n",
    "    Q3 = data[column].quantile(0.75)\n",
    "    IQR = Q3 - Q1\n",
    "    lower_bound = Q1 - 1.5 * IQR\n",
    "    upper_bound = Q3 + 1.5 * IQR\n",
    "    return data[(data[column] >= lower_bound) & (data[column] <= upper_bound)]\n",
    "\n",
    "# Apply to numerical columns\n",
    "for col in numerical_features:\n",
    "    df = remove_outliers(df, col)\n"
   ]
  },
  {
   "cell_type": "code",
   "execution_count": 12,
   "id": "f4cb3b12",
   "metadata": {},
   "outputs": [
    {
     "name": "stdout",
     "output_type": "stream",
     "text": [
      "Preprocessed dataset saved at: asthma_preprocessed.csv\n"
     ]
    }
   ],
   "source": [
    "# Save the preprocessed dataset\n",
    "preprocessed_file_path = \"asthma_preprocessed.csv\"\n",
    "df.to_csv(preprocessed_file_path, index=False)\n",
    "\n",
    "print(f\"Preprocessed dataset saved at: {preprocessed_file_path}\")\n"
   ]
  },
  {
   "cell_type": "code",
   "execution_count": 15,
   "id": "a156ad42",
   "metadata": {},
   "outputs": [
    {
     "data": {
      "image/png": "[encoded data removed]",
      "text/plain": [
       "<Figure size 600x400 with 1 Axes>"
      ]
     },
     "metadata": {},
     "output_type": "display_data"
    }
   ],
   "source": [
    "# Visualizing the Asthma Diagnosis count\n",
    "import matplotlib.pyplot as plt\n",
    "import seaborn as sns\n",
    "plt.figure(figsize=(6,4))\n",
    "sns.countplot(x=df['Diagnosis'], palette=\"Set2\")\n",
    "plt.title(\"Asthma Diagnosis Distribution\")\n",
    "plt.xlabel(\"Diagnosis (0: No, 1: Yes)\")\n",
    "plt.ylabel(\"Count\")\n",
    "plt.show()\n"
   ]
  },
  {
   "cell_type": "code",
   "execution_count": 17,
   "id": "01ac7e55",
   "metadata": {},
   "outputs": [
    {
     "data": {
      "image/png": "[encoded data removed]",
      "text/plain": [
       "<Figure size 800x500 with 1 Axes>"
      ]
     },
     "metadata": {},
     "output_type": "display_data"
    }
   ],
   "source": [
    "# Visualizing the distribution of Age\n",
    "import warnings\n",
    "\n",
    "# Ignore warnings\n",
    "warnings.filterwarnings(\"ignore\")\n",
    "plt.figure(figsize=(8,5))\n",
    "sns.histplot(df['Age'], bins=30, kde=True, color='blue')\n",
    "plt.title(\"Age Distribution of Patients\")\n",
    "plt.xlabel(\"Age\")\n",
    "plt.ylabel(\"Count\")\n",
    "plt.show()"
   ]
  },
  {
   "cell_type": "code",
   "execution_count": null,
   "id": "51263e60",
   "metadata": {},
   "outputs": [],
   "source": []
  }
 ],
 "metadata": {
  "kernelspec": {
   "display_name": "Python 3 (ipykernel)",
   "language": "python",
   "name": "python3"
  },
  "language_info": {
   "codemirror_mode": {
    "name": "ipython",
    "version": 3
   },
   "file_extension": ".py",
   "mimetype": "text/x-python",
   "name": "python",
   "nbconvert_exporter": "python",
   "pygments_lexer": "ipython3",
   "version": "3.11.5"
  }
 },
 "nbformat": 4,
 "nbformat_minor": 5
}
